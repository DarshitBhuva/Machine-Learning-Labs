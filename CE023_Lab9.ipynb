{
  "nbformat": 4,
  "nbformat_minor": 0,
  "metadata": {
    "colab": {
      "provenance": []
    },
    "kernelspec": {
      "name": "python3",
      "display_name": "Python 3"
    },
    "language_info": {
      "name": "python"
    }
  },
  "cells": [
    {
      "cell_type": "code",
      "execution_count": null,
      "metadata": {
        "colab": {
          "base_uri": "https://localhost:8080/"
        },
        "id": "RqF3czkTuvtm",
        "outputId": "20f40eb3-7cee-4357-d9d0-a56d7c74f4d0"
      },
      "outputs": [
        {
          "output_type": "stream",
          "name": "stdout",
          "text": [
            "[[ 6.8154703   9.29984979]\n",
            " [ 9.31967393  8.83834162]\n",
            " [ 6.63721279  9.2092752 ]\n",
            " [-0.67157179 -4.59977267]\n",
            " [ 6.8627509   9.31860677]\n",
            " [ 9.45572022  8.8021876 ]\n",
            " [ 9.75789826  8.73297112]\n",
            " [ 9.28815595  8.63040456]\n",
            " [ 9.63061054  8.58201482]\n",
            " [ 5.46023427 -4.0019256 ]\n",
            " [ 6.51183366  9.29733843]\n",
            " [ 5.39666517 -4.19487087]\n",
            " [ 9.38509715  8.72797479]\n",
            " [-0.89197384 -4.2668534 ]\n",
            " [ 9.6362728   8.65904583]\n",
            " [ 9.53397253  8.6716368 ]\n",
            " [-1.34941564 -4.10629343]\n",
            " [ 9.31557098  8.56640609]\n",
            " [ 6.74616305  9.53460503]\n",
            " [ 5.36342629 -4.25852287]\n",
            " [ 5.77728374 -3.91906034]\n",
            " [ 5.57759605 -4.01307717]\n",
            " [ 6.60249608  9.20970489]\n",
            " [ 9.42090843  8.6275838 ]\n",
            " [-0.68076223 -4.2383504 ]\n",
            " [ 9.42639142  8.42822774]\n",
            " [ 5.62794929 -4.09990186]\n",
            " [ 6.48333815  9.40255245]\n",
            " [ 7.06384661  9.68985885]\n",
            " [ 9.43526893  9.0212497 ]\n",
            " [ 6.74689263  8.99696636]\n",
            " [ 5.55670288 -4.31635388]\n",
            " [ 9.64930778  8.63886418]\n",
            " [ 9.57091842  9.05355546]\n",
            " [-1.34434902 -4.14729904]\n",
            " [ 9.55001086  8.41896935]\n",
            " [ 6.70319967  9.51840548]\n",
            " [-1.22092492 -4.42210387]\n",
            " [ 9.44517114  8.25635395]\n",
            " [-0.82822368 -4.48492794]\n",
            " [ 9.44445334  8.25375036]\n",
            " [-1.37088038 -4.37993447]\n",
            " [-0.8819876  -4.30583168]\n",
            " [ 5.55582285 -3.69064878]\n",
            " [ 5.39651276 -3.92558579]\n",
            " [ 5.12156336 -4.27148981]\n",
            " [-1.0345297  -4.30820279]\n",
            " [ 5.17359113 -3.93038629]\n",
            " [ 6.83366428  9.46861629]\n",
            " [ 6.87397137  9.35319744]\n",
            " [ 6.40186272  9.26073633]\n",
            " [ 9.57775408  8.64478419]\n",
            " [ 5.36189096 -4.09482102]\n",
            " [ 6.62065771  9.17925123]\n",
            " [-1.13263492 -4.36161039]\n",
            " [ 5.25143762 -3.80260656]\n",
            " [-1.00474647 -3.93869231]\n",
            " [-1.21115209 -4.53279211]\n",
            " [ 9.40988935  8.5492964 ]\n",
            " [ 5.52788525 -4.2354329 ]\n",
            " [-1.25516874 -4.00457557]\n",
            " [ 6.84645778  9.43823827]\n",
            " [ 9.75622775  8.48544941]\n",
            " [-1.17166059 -4.22805172]\n",
            " [ 5.17335444 -4.28913705]\n",
            " [ 6.68105339  9.33567573]\n",
            " [ 5.75143658 -3.76221433]\n",
            " [ 6.66032594  9.36082504]\n",
            " [ 6.71372207  9.2348424 ]\n",
            " [ 5.26380472 -3.61397213]\n",
            " [-0.96141062 -4.71673509]\n",
            " [ 6.84788774  9.19671584]\n",
            " [ 9.64230482  8.75188617]\n",
            " [ 5.19901782 -4.2558936 ]\n",
            " [-1.08248549 -4.49239535]\n",
            " [-0.95686853 -4.39023945]\n",
            " [ 6.46165683  9.5597805 ]\n",
            " [ 5.21532978 -3.78774549]\n",
            " [ 9.1336708   8.83824502]\n",
            " [ 5.65672729 -4.05199204]\n",
            " [ 6.97932034  9.57121111]\n",
            " [ 4.98748133 -4.17658155]\n",
            " [ 6.49907881  9.33519553]\n",
            " [ 9.69948035  8.47593731]\n",
            " [ 5.3669439  -4.22995156]\n",
            " [ 5.57954644 -4.17668681]\n",
            " [-1.17268696 -4.62503397]\n",
            " [ 6.94742423  9.35713463]\n",
            " [ 5.19762652 -4.17801563]\n",
            " [ 5.28667811 -3.96694244]\n",
            " [-0.76031118 -4.59222701]\n",
            " [-1.12908007 -4.33707655]\n",
            " [-1.02689292 -4.2386897 ]\n",
            " [ 6.69908273  9.47501103]\n",
            " [ 6.70100907  9.43731459]\n",
            " [-0.78096598 -4.31749784]\n",
            " [-0.80235737 -4.06974214]\n",
            " [-1.27870416 -4.10029778]\n",
            " [ 9.52997413  8.59179579]\n",
            " [ 8.90528899  8.76607249]]\n",
            "[0 3 0 1 0 3 3 3 3 2 0 2 3 1 3 3 1 3 0 2 2 2 0 3 1 3 2 0 0 3 0 2 3 3 1 3 0\n",
            " 1 3 1 3 1 1 2 2 2 1 2 0 0 0 3 2 0 1 2 1 1 3 2 1 0 3 1 2 0 2 0 0 2 1 0 3 2\n",
            " 1 1 0 2 3 2 0 2 0 3 2 2 1 0 2 2 1 1 1 0 0 1 1 1 3 3]\n"
          ]
        }
      ],
      "source": [
        "from sklearn.datasets import make_blobs\n",
        "from sklearn.model_selection import train_test_split\n",
        "X, y = make_blobs(n_samples=100, centers=4, n_features=2, cluster_std=0.2, random_state=97)\n",
        "X_train, X_test, y_train, y_test = train_test_split(X, y, random_state=97, train_size=0.9)\n",
        "print(X)\n",
        "print(y)"
      ]
    },
    {
      "cell_type": "code",
      "source": [
        "# Scatter plot of the data points\n",
        "import matplotlib.pyplot as plt\n",
        "from sklearn.cluster import KMeans\n",
        "plt.figure(figsize=(6, 6))\n",
        "plt.scatter(X_train[:, 0], X_train[:, 1],c='white', marker='o', edgecolor='black')\n",
        "plt.xlabel('X coordinate')\n",
        "plt.ylabel('Y coordinate')\n",
        "plt.title('Visualization of raw data');\n",
        "# Using scikit-learn to perform K-Means clustering\n",
        "km = KMeans(n_clusters=4, init='random', max_iter=300, tol=1e-04, random_state=0)\n",
        "y_km = km.fit_predict(X_train)\n",
        "# Get the cluster centroids\n",
        "print(km.cluster_centers_)\n",
        "print(y_km)"
      ],
      "metadata": {
        "colab": {
          "base_uri": "https://localhost:8080/",
          "height": 459
        },
        "id": "BbNe0jvMvMUb",
        "outputId": "801e1fcc-1817-4cae-a37e-5f1d9e02c5e3"
      },
      "execution_count": null,
      "outputs": [
        {
          "output_type": "stream",
          "name": "stderr",
          "text": [
            "/usr/local/lib/python3.9/dist-packages/sklearn/cluster/_kmeans.py:870: FutureWarning: The default value of `n_init` will change from 10 to 'auto' in 1.4. Set the value of `n_init` explicitly to suppress the warning\n",
            "  warnings.warn(\n"
          ]
        },
        {
          "output_type": "display_data",
          "data": {
            "text/plain": [
              "<Figure size 432x432 with 1 Axes>"
            ],
            "image/png": "[encoded data removed]"
          },
          "metadata": {
            "needs_background": "light"
          }
        }
      ]
    },
    {
      "cell_type": "code",
      "source": [
        "# Get the cluster labels\n",
        "print(km.labels_)\n",
        "# Plotting the cluster centers and the data points on a 2D plane\n",
        "centroids = km.cluster_centers_\n",
        "ax = plt.subplots(figsize=(6, 6))\n",
        "\n",
        "plt.scatter(X_train[y_km == 0, 0], X_train[y_km == 0, 1], s=50, c='lightgreen',\n",
        "    marker='s', edgecolor='black', label='cluster 1')\n",
        "\n",
        "plt.scatter(X_train[y_km == 1, 0], X_train[y_km == 1, 1],\n",
        "            c='blue', label='cluster 2')\n",
        "\n",
        "plt.scatter(X_train[y_km == 2, 0], X_train[y_km == 2, 1],\n",
        "            c='pink', label='cluster 3')\n",
        "\n",
        "plt.scatter(X_train[y_km == 3, 0], X_train[y_km == 3, 1],\n",
        "            c='lightgray', label='cluster 4')\n",
        "\n",
        "plt.scatter(centroids[:, 0], centroids[:, 1], marker='*', s=300,\n",
        "            c='r', label='centroid')\n",
        "plt.legend(scatterpoints=1)\n",
        "plt.xlabel('X coordinate')\n",
        "plt.ylabel('Y coordinate')\n",
        "plt.title('Visualization of clustered data', fontweight='bold')\n",
        "plt.show()"
      ],
      "metadata": {
        "colab": {
          "base_uri": "https://localhost:8080/",
          "height": 456
        },
        "id": "5VdJUs-PvMXa",
        "outputId": "32c9c247-c9e3-4693-c8fb-37b935c73cac"
      },
      "execution_count": null,
      "outputs": [
        {
          "output_type": "stream",
          "name": "stdout",
          "text": [
            "[3 0 1 2 2 1 3 0 2 2 2 0 0 2 3 0 0 0 3 1 1 0 3 2 0 3 2 2 0 3 3 3 2 0 1 2 3\n",
            " 3 2 3 0 1 3 0 1 1 1 0 0 0 0 2 1 1 2 1 1 2 0 3 3 1 1 2 0 0 2 2 1 1 1 3 3 0\n",
            " 0 1 1 3 0 3 2 2 3 1 2 2 2 0 0 1]\n"
          ]
        },
        {
          "output_type": "display_data",
          "data": {
            "text/plain": [
              "<Figure size 432x432 with 1 Axes>"
            ],
            "image/png": "[encoded data removed]"
          },
          "metadata": {
            "needs_background": "light"
          }
        }
      ]
    },
    {
      "cell_type": "code",
      "source": [
        "# Calculate silhouette_score\n",
        "from sklearn.metrics import silhouette_score\n",
        "score = silhouette_score(X_train, km.labels_, metric='euclidean')\n",
        "print('Silhouetter Score: %.3f' % score)\n",
        "range_n_clusters = [2, 3, 4, 5, 6, 7]\n",
        "silhouette_avg=[]\n",
        "\n",
        "for num_clusters in range_n_clusters: \n",
        " kmeans = KMeans(n_clusters=num_clusters)\n",
        " kmeans.fit(X_train)\n",
        " cluster_labels = kmeans.labels_\n",
        " silhouette_avg.append(silhouette_score(X_train, cluster_labels))\n",
        "plt.plot(range_n_clusters,silhouette_avg,'bx-')\n",
        "plt.xlabel('Values of K') \n",
        "plt.ylabel('Silhouette score') \n",
        "plt.title('Silhouette analysis For Optimal k')\n",
        "plt.show()"
      ],
      "metadata": {
        "colab": {
          "base_uri": "https://localhost:8080/",
          "height": 541
        },
        "id": "Rc7YRLssvMaV",
        "outputId": "7e80cec0-db7c-4011-f240-9e242c00b758"
      },
      "execution_count": null,
      "outputs": [
        {
          "output_type": "stream",
          "name": "stdout",
          "text": [
            "Silhouetter Score: 0.914\n"
          ]
        },
        {
          "output_type": "stream",
          "name": "stderr",
          "text": [
            "/usr/local/lib/python3.9/dist-packages/sklearn/cluster/_kmeans.py:870: FutureWarning: The default value of `n_init` will change from 10 to 'auto' in 1.4. Set the value of `n_init` explicitly to suppress the warning\n",
            "  warnings.warn(\n",
            "/usr/local/lib/python3.9/dist-packages/sklearn/cluster/_kmeans.py:870: FutureWarning: The default value of `n_init` will change from 10 to 'auto' in 1.4. Set the value of `n_init` explicitly to suppress the warning\n",
            "  warnings.warn(\n",
            "/usr/local/lib/python3.9/dist-packages/sklearn/cluster/_kmeans.py:870: FutureWarning: The default value of `n_init` will change from 10 to 'auto' in 1.4. Set the value of `n_init` explicitly to suppress the warning\n",
            "  warnings.warn(\n",
            "/usr/local/lib/python3.9/dist-packages/sklearn/cluster/_kmeans.py:870: FutureWarning: The default value of `n_init` will change from 10 to 'auto' in 1.4. Set the value of `n_init` explicitly to suppress the warning\n",
            "  warnings.warn(\n",
            "/usr/local/lib/python3.9/dist-packages/sklearn/cluster/_kmeans.py:870: FutureWarning: The default value of `n_init` will change from 10 to 'auto' in 1.4. Set the value of `n_init` explicitly to suppress the warning\n",
            "  warnings.warn(\n",
            "/usr/local/lib/python3.9/dist-packages/sklearn/cluster/_kmeans.py:870: FutureWarning: The default value of `n_init` will change from 10 to 'auto' in 1.4. Set the value of `n_init` explicitly to suppress the warning\n",
            "  warnings.warn(\n"
          ]
        },
        {
          "output_type": "display_data",
          "data": {
            "text/plain": [
              "<Figure size 432x288 with 1 Axes>"
            ],
            "image/png": "[encoded data removed]"
          },
          "metadata": {
            "needs_background": "light"
          }
        }
      ]
    },
    {
      "cell_type": "code",
      "source": [
        "! pip install yellowbrick\n"
      ],
      "metadata": {
        "colab": {
          "base_uri": "https://localhost:8080/"
        },
        "id": "aINUUEbCvMdS",
        "outputId": "540b057b-37ab-4145-ab61-ef3bf07db0fb"
      },
      "execution_count": null,
      "outputs": [
        {
          "output_type": "stream",
          "name": "stdout",
          "text": [
            "Looking in indexes: https://pypi.org/simple, https://us-python.pkg.dev/colab-wheels/public/simple/\n",
            "Requirement already satisfied: yellowbrick in /usr/local/lib/python3.9/dist-packages (1.5)\n",
            "Requirement already satisfied: cycler>=0.10.0 in /usr/local/lib/python3.9/dist-packages (from yellowbrick) (0.11.0)\n",
            "Requirement already satisfied: numpy>=1.16.0 in /usr/local/lib/python3.9/dist-packages (from yellowbrick) (1.22.4)\n",
            "Requirement already satisfied: scipy>=1.0.0 in /usr/local/lib/python3.9/dist-packages (from yellowbrick) (1.10.1)\n",
            "Requirement already satisfied: scikit-learn>=1.0.0 in /usr/local/lib/python3.9/dist-packages (from yellowbrick) (1.2.2)\n",
            "Requirement already satisfied: matplotlib!=3.0.0,>=2.0.2 in /usr/local/lib/python3.9/dist-packages (from yellowbrick) (3.5.3)\n",
            "Requirement already satisfied: python-dateutil>=2.7 in /usr/local/lib/python3.9/dist-packages (from matplotlib!=3.0.0,>=2.0.2->yellowbrick) (2.8.2)\n",
            "Requirement already satisfied: pillow>=6.2.0 in /usr/local/lib/python3.9/dist-packages (from matplotlib!=3.0.0,>=2.0.2->yellowbrick) (8.4.0)\n",
            "Requirement already satisfied: pyparsing>=2.2.1 in /usr/local/lib/python3.9/dist-packages (from matplotlib!=3.0.0,>=2.0.2->yellowbrick) (3.0.9)\n",
            "Requirement already satisfied: packaging>=20.0 in /usr/local/lib/python3.9/dist-packages (from matplotlib!=3.0.0,>=2.0.2->yellowbrick) (23.0)\n",
            "Requirement already satisfied: kiwisolver>=1.0.1 in /usr/local/lib/python3.9/dist-packages (from matplotlib!=3.0.0,>=2.0.2->yellowbrick) (1.4.4)\n",
            "Requirement already satisfied: fonttools>=4.22.0 in /usr/local/lib/python3.9/dist-packages (from matplotlib!=3.0.0,>=2.0.2->yellowbrick) (4.39.0)\n",
            "Requirement already satisfied: threadpoolctl>=2.0.0 in /usr/local/lib/python3.9/dist-packages (from scikit-learn>=1.0.0->yellowbrick) (3.1.0)\n",
            "Requirement already satisfied: joblib>=1.1.1 in /usr/local/lib/python3.9/dist-packages (from scikit-learn>=1.0.0->yellowbrick) (1.1.1)\n",
            "Requirement already satisfied: six>=1.5 in /usr/local/lib/python3.9/dist-packages (from python-dateutil>=2.7->matplotlib!=3.0.0,>=2.0.2->yellowbrick) (1.15.0)\n"
          ]
        }
      ]
    },
    {
      "cell_type": "code",
      "source": [
        "# Import the KElbowVisualizer method\n",
        "from yellowbrick.cluster import KElbowVisualizer\n",
        "elb_visualizer = KElbowVisualizer(km, k=(2,7))\n",
        "elb_visualizer.fit(X_train)    \n",
        "elb_visualizer.show()\n",
        "print(elb_visualizer.elbow_value_)\n",
        "final_predictions = km.predict(X_test)\n",
        "from sklearn import metrics\n",
        "print(\"Accuracy: \",metrics.accuracy_score(y_test, final_predictions))\n",
        "print(\"Precision: \",metrics.precision_score(y_test, final_predictions, average='weighted'))\n",
        "print(\"Recall: \",metrics.recall_score(y_test, final_predictions, average='weighted'))"
      ],
      "metadata": {
        "colab": {
          "base_uri": "https://localhost:8080/",
          "height": 708
        },
        "id": "6vPSzHKbvMga",
        "outputId": "c63c4a32-bc9d-4b87-ade3-23e35003acef"
      },
      "execution_count": null,
      "outputs": [
        {
          "output_type": "stream",
          "name": "stderr",
          "text": [
            "/usr/local/lib/python3.9/dist-packages/sklearn/cluster/_kmeans.py:870: FutureWarning: The default value of `n_init` will change from 10 to 'auto' in 1.4. Set the value of `n_init` explicitly to suppress the warning\n",
            "  warnings.warn(\n",
            "/usr/local/lib/python3.9/dist-packages/sklearn/cluster/_kmeans.py:870: FutureWarning: The default value of `n_init` will change from 10 to 'auto' in 1.4. Set the value of `n_init` explicitly to suppress the warning\n",
            "  warnings.warn(\n",
            "/usr/local/lib/python3.9/dist-packages/sklearn/cluster/_kmeans.py:870: FutureWarning: The default value of `n_init` will change from 10 to 'auto' in 1.4. Set the value of `n_init` explicitly to suppress the warning\n",
            "  warnings.warn(\n",
            "/usr/local/lib/python3.9/dist-packages/sklearn/cluster/_kmeans.py:870: FutureWarning: The default value of `n_init` will change from 10 to 'auto' in 1.4. Set the value of `n_init` explicitly to suppress the warning\n",
            "  warnings.warn(\n",
            "/usr/local/lib/python3.9/dist-packages/sklearn/cluster/_kmeans.py:870: FutureWarning: The default value of `n_init` will change from 10 to 'auto' in 1.4. Set the value of `n_init` explicitly to suppress the warning\n",
            "  warnings.warn(\n"
          ]
        },
        {
          "output_type": "display_data",
          "data": {
            "text/plain": [
              "<Figure size 576x396 with 2 Axes>"
            ],
            "image/png": "[encoded data removed]"
          },
          "metadata": {}
        },
        {
          "output_type": "stream",
          "name": "stdout",
          "text": [
            "3\n",
            "Accuracy:  0.0\n",
            "Precision:  0.0\n",
            "Recall:  0.0\n"
          ]
        },
        {
          "output_type": "stream",
          "name": "stderr",
          "text": [
            "/usr/local/lib/python3.9/dist-packages/sklearn/metrics/_classification.py:1344: UndefinedMetricWarning: Precision is ill-defined and being set to 0.0 in labels with no predicted samples. Use `zero_division` parameter to control this behavior.\n",
            "  _warn_prf(average, modifier, msg_start, len(result))\n",
            "/usr/local/lib/python3.9/dist-packages/sklearn/metrics/_classification.py:1344: UndefinedMetricWarning: Recall is ill-defined and being set to 0.0 in labels with no true samples. Use `zero_division` parameter to control this behavior.\n",
            "  _warn_prf(average, modifier, msg_start, len(result))\n"
          ]
        }
      ]
    },
    {
      "cell_type": "code",
      "source": [
        "import matplotlib.pyplot as plt\n",
        "import numpy as np\n",
        "from sklearn.cluster import KMeans\n",
        "X1 = np.array([[2,2],[3,4],[6,7],[5,5],[3,3],[12,13]])\n",
        "X2 = np.array([2,3,4])\n",
        "plt.scatter(X1[:,0], X1[:,1], label='points', c='blue')\n",
        "centroid = np.array([[2,2],[3,4],[6,7]])\n",
        "kmeans = KMeans(n_clusters=3, init=centroid).fit(X1)\n",
        "print(kmeans.cluster_centers_)\n",
        "print(kmeans.labels_)\n",
        "plt.scatter(centroid[:, 0], centroid[:, 1], marker='*', s=300,\n",
        "            c='r', label='centroid')\n",
        "print(\"Number of iterations \" , kmeans.n_iter_)\n",
        "print(\"Prediction for (8,8) is \", kmeans.predict([[8,8]]))\n",
        "print(\"Prediction for (1,2) is \", kmeans.predict([[1,2]]))\n",
        "print(\"Prediction for (9,10) is \", kmeans.predict([[9,10]]))\n",
        "plt.show()"
      ],
      "metadata": {
        "colab": {
          "base_uri": "https://localhost:8080/",
          "height": 575
        },
        "id": "xiekjkSFvMjn",
        "outputId": "d3d3eac7-5864-42d5-e231-98939f450c4f"
      },
      "execution_count": null,
      "outputs": [
        {
          "output_type": "stream",
          "name": "stderr",
          "text": [
            "/usr/local/lib/python3.9/dist-packages/sklearn/cluster/_kmeans.py:870: FutureWarning: The default value of `n_init` will change from 10 to 'auto' in 1.4. Set the value of `n_init` explicitly to suppress the warning\n",
            "  warnings.warn(\n",
            "/usr/local/lib/python3.9/dist-packages/sklearn/cluster/_kmeans.py:1362: RuntimeWarning: Explicit initial center position passed: performing only one init in KMeans instead of n_init=10.\n",
            "  super()._check_params_vs_input(X, default_n_init=10)\n"
          ]
        },
        {
          "output_type": "stream",
          "name": "stdout",
          "text": [
            "[[ 2.66666667  3.        ]\n",
            " [ 5.5         6.        ]\n",
            " [12.         13.        ]]\n",
            "[0 0 1 1 0 2]\n",
            "Number of iterations  5\n",
            "Prediction for (8,8) is  [1]\n",
            "Prediction for (1,2) is  [0]\n",
            "Prediction for (9,10) is  [2]\n"
          ]
        },
        {
          "output_type": "display_data",
          "data": {
            "text/plain": [
              "<Figure size 576x396 with 1 Axes>"
            ],
            "image/png": "[encoded data removed]"
          },
          "metadata": {}
        }
      ]
    },
    {
      "cell_type": "code",
      "source": [],
      "metadata": {
        "id": "p-1sDf33vMnI"
      },
      "execution_count": null,
      "outputs": []
    },
    {
      "cell_type": "code",
      "source": [
        "import numpy as np\n",
        "import pandas as pd \n",
        "from sklearn.cluster import KMeans\n",
        "from sklearn.datasets import load_digits\n",
        "import matplotlib.pyplot as plt\n",
        "import seaborn as sns\n",
        "from scipy.stats import mode\n",
        "from sklearn.metrics import accuracy_score, confusion_matrix\n",
        "\n",
        "digits = load_digits()\n",
        "digits.data.shape\n",
        "print(digits.keys())\n",
        "kmeans = KMeans(n_clusters=10, random_state=0)\n",
        "clusters = kmeans.fit_predict(digits.data)\n",
        "kmeans.cluster_centers_.shape"
      ],
      "metadata": {
        "colab": {
          "base_uri": "https://localhost:8080/"
        },
        "id": "48sY2gqwwtf7",
        "outputId": "06cc79e3-2b5a-4d5c-a880-310e8fc379b9"
      },
      "execution_count": null,
      "outputs": [
        {
          "output_type": "stream",
          "name": "stdout",
          "text": [
            "dict_keys(['data', 'target', 'frame', 'feature_names', 'target_names', 'images', 'DESCR'])\n"
          ]
        },
        {
          "output_type": "stream",
          "name": "stderr",
          "text": [
            "/usr/local/lib/python3.9/dist-packages/sklearn/cluster/_kmeans.py:870: FutureWarning: The default value of `n_init` will change from 10 to 'auto' in 1.4. Set the value of `n_init` explicitly to suppress the warning\n",
            "  warnings.warn(\n"
          ]
        },
        {
          "output_type": "execute_result",
          "data": {
            "text/plain": [
              "(10, 64)"
            ]
          },
          "metadata": {},
          "execution_count": 8
        }
      ]
    },
    {
      "cell_type": "code",
      "source": [
        "from sklearn.cluster import KMeans\n",
        "fig, ax = plt.subplots(2, 5, figsize=(8, 3))\n",
        "centers = kmeans.cluster_centers_.reshape(10, 8, 8)\n",
        "for axi, center in zip(ax.flat, centers):\n",
        "    axi.set(xticks=[], yticks=[])\n",
        "    axi.imshow(center, interpolation='nearest', cmap=plt.cm.binary)\n",
        "from scipy.stats import mode\n",
        "labels = np.zeros_like(clusters)\n",
        "print(f\"The labels are : {labels}\")\n",
        "print(f\"\\nThe size of labels is : {labels.shape}\")\n",
        "print(\"The mask values are : \")\n",
        "\n",
        "for i in range(10):\n",
        "    mask = (clusters == i)\n",
        "    print(mask)\n",
        "    labels[mask] = mode(digits.target[mask])[0]"
      ],
      "metadata": {
        "colab": {
          "base_uri": "https://localhost:8080/",
          "height": 492
        },
        "id": "enQKT1Pgwtiq",
        "outputId": "2417d993-d77f-45f9-8fef-593a9e0a54b4"
      },
      "execution_count": null,
      "outputs": [
        {
          "output_type": "stream",
          "name": "stdout",
          "text": [
            "The labels are : [0 0 0 ... 0 0 0]\n",
            "\n",
            "The size of labels is : (1797,)\n",
            "The mask values are : \n",
            "[False False False ... False False False]\n",
            "[False False False ... False False False]\n",
            "[False False False ... False False False]\n",
            "[False False False ... False  True  True]\n",
            "[False False False ... False False False]\n",
            "[ True False False ... False False False]\n",
            "[False False False ... False False False]\n",
            "[False  True  True ...  True False False]\n",
            "[False False False ... False False False]\n",
            "[False False False ... False False False]\n"
          ]
        },
        {
          "output_type": "stream",
          "name": "stderr",
          "text": [
            "<ipython-input-9-2e827b1cd918>:16: FutureWarning: Unlike other reduction functions (e.g. `skew`, `kurtosis`), the default behavior of `mode` typically preserves the axis it acts along. In SciPy 1.11.0, this behavior will change: the default value of `keepdims` will become False, the `axis` over which the statistic is taken will be eliminated, and the value None will no longer be accepted. Set `keepdims` to True or False to avoid this warning.\n",
            "  labels[mask] = mode(digits.target[mask])[0]\n"
          ]
        },
        {
          "output_type": "display_data",
          "data": {
            "text/plain": [
              "<Figure size 576x216 with 10 Axes>"
            ],
            "image/png": "[encoded data removed]"
          },
          "metadata": {}
        }
      ]
    },
    {
      "cell_type": "code",
      "source": [
        "from sklearn.metrics import accuracy_score\n",
        "accuracy_score(digits.target, labels)"
      ],
      "metadata": {
        "colab": {
          "base_uri": "https://localhost:8080/"
        },
        "id": "yubQ6CNxwtmC",
        "outputId": "a0921268-c7ef-4afb-b7d6-39530af8239f"
      },
      "execution_count": null,
      "outputs": [
        {
          "output_type": "execute_result",
          "data": {
            "text/plain": [
              "0.7935447968836951"
            ]
          },
          "metadata": {},
          "execution_count": 10
        }
      ]
    },
    {
      "cell_type": "code",
      "source": [],
      "metadata": {
        "id": "AqNJA0Mywtrr"
      },
      "execution_count": null,
      "outputs": []
    }
  ]
}